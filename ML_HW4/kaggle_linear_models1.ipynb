{
 "cells": [
  {
   "cell_type": "code",
   "execution_count": 1,
   "metadata": {
    "collapsed": true
   },
   "outputs": [],
   "source": [
    "import pandas as pd\n",
    "from sklearn.model_selection import cross_val_score\n",
    "from sklearn.feature_extraction.text import CountVectorizer\n",
    "from sklearn.linear_model import LogisticRegression\n",
    "\n",
    "def lower_text(text):\n",
    "    text_ = text.lower()\n",
    "    return text_\n",
    "\n",
    "data_frame = pd.read_csv(\"linear_train.txt\", sep=\",\", names=['word', 'target'])\n",
    "data_frame[\"word\"] = data_frame.word.apply(lower_text)\n",
    "words = data_frame.word\n",
    "targets = data_frame.target"
   ]
  },
  {
   "cell_type": "code",
   "execution_count": 2,
   "metadata": {
    "collapsed": false
   },
   "outputs": [
    {
     "name": "stdout",
     "output_type": "stream",
     "text": [
      "0.78400263558\n"
     ]
    }
   ],
   "source": [
    "transformer = CountVectorizer(min_df=1, ngram_range=(4, 9), analyzer='char_wb', binary=True)\n",
    "matrix = transformer.fit_transform(words)\n",
    "algo = LogisticRegression(penalty='l2', C=0.5)\n",
    "algo.fit(matrix, targets)\n",
    "print cross_val_score(algo, matrix, targets, scoring=\"roc_auc\").mean()"
   ]
  },
  {
   "cell_type": "code",
   "execution_count": null,
   "metadata": {
    "collapsed": false
   },
   "outputs": [],
   "source": []
  },
  {
   "cell_type": "code",
   "execution_count": 3,
   "metadata": {
    "collapsed": false
   },
   "outputs": [],
   "source": [
    "test = pd.read_csv('linear_test.txt', names=['word'])\n",
    "test['word'] = test.word.apply(lower_text)\n",
    "words = test.word\n",
    "matrix = transformer.transform(words)"
   ]
  },
  {
   "cell_type": "code",
   "execution_count": 7,
   "metadata": {
    "collapsed": false
   },
   "outputs": [],
   "source": [
    "answer = pd.read_csv('linear_ans_example.txt', sep=',', names=['id', 'answer'], header=0)\n",
    "predictions = algo.predict_proba(matrix)\n",
    "answer['answer'] = 1 - predictions\n",
    "answer = answer.drop(['id'], axis=1)\n",
    "answer.to_csv('answer.txt', sep=',')"
   ]
  },
  {
   "cell_type": "code",
   "execution_count": null,
   "metadata": {
    "collapsed": true
   },
   "outputs": [],
   "source": []
  },
  {
   "cell_type": "code",
   "execution_count": null,
   "metadata": {
    "collapsed": true
   },
   "outputs": [],
   "source": []
  }
 ],
 "metadata": {
  "kernelspec": {
   "display_name": "Python 2",
   "language": "python",
   "name": "python2"
  },
  "language_info": {
   "codemirror_mode": {
    "name": "ipython",
    "version": 2
   },
   "file_extension": ".py",
   "mimetype": "text/x-python",
   "name": "python",
   "nbconvert_exporter": "python",
   "pygments_lexer": "ipython2",
   "version": "2.7.13"
  }
 },
 "nbformat": 4,
 "nbformat_minor": 2
}
