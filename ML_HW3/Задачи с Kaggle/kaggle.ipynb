{
 "cells": [
  {
   "cell_type": "code",
   "execution_count": 4,
   "metadata": {
    "collapsed": true
   },
   "outputs": [],
   "source": [
    "from sklearn.ensemble import GradientBoostingRegressor\n",
    "from sklearn.model_selection import cross_val_score\n",
    "import pandas as pd\n",
    "import xgboost as xgb"
   ]
  },
  {
   "cell_type": "code",
   "execution_count": 5,
   "metadata": {
    "collapsed": false
   },
   "outputs": [
    {
     "name": "stdout",
     "output_type": "stream",
     "text": [
      "['Num', 'y', 'year', 'week', 'shift', 'item_id', 'f1', 'f2', 'f3', 'f4', 'f5', 'f6', 'f7', 'f8', 'f9', 'f10', 'f11', 'f12', 'f13', 'f14', 'f15', 'f16', 'f17', 'f18', 'f19', 'f20', 'f21', 'f22', 'f23', 'f24', 'f25', 'f26', 'f27', 'f28', 'f29', 'f30', 'f31', 'f32', 'f33', 'f34', 'f35', 'f36', 'f37', 'f38', 'f39', 'f40', 'f41', 'f42', 'f43', 'f44', 'f45', 'f46', 'f47', 'f48', 'f49', 'f50', 'f51', 'f52', 'f53', 'f54', 'f55', 'f56', 'f57', 'f58', 'f59', 'f60']\n"
     ]
    }
   ],
   "source": [
    "train = pd.read_csv(\"train.tsv\")\n",
    "test = pd.read_csv(\"test.tsv\")\n",
    "names = train.columns\n",
    "print list(names)"
   ]
  },
  {
   "cell_type": "code",
   "execution_count": 6,
   "metadata": {
    "collapsed": false
   },
   "outputs": [
    {
     "data": {
      "text/plain": [
       "GradientBoostingRegressor(alpha=0.9, criterion='friedman_mse', init=None,\n",
       "             learning_rate=0.1, loss='ls', max_depth=5, max_features=None,\n",
       "             max_leaf_nodes=None, min_impurity_split=1e-07,\n",
       "             min_samples_leaf=1, min_samples_split=2,\n",
       "             min_weight_fraction_leaf=0.0, n_estimators=500,\n",
       "             presort='auto', random_state=43, subsample=1.0, verbose=0,\n",
       "             warm_start=False)"
      ]
     },
     "execution_count": 6,
     "metadata": {},
     "output_type": "execute_result"
    }
   ],
   "source": [
    "frac = 0.2\n",
    "part_train = train.sample(frac=frac, random_state=42)\n",
    "\n",
    "X = part_train.drop(['Num','y'], axis=1)\n",
    "y = part_train['y']\n",
    "model = GradientBoostingRegressor(n_estimators=500, max_depth=5, random_state=43)\n",
    "model.fit(X, y)"
   ]
  },
  {
   "cell_type": "code",
   "execution_count": 7,
   "metadata": {
    "collapsed": false
   },
   "outputs": [
    {
     "name": "stdout",
     "output_type": "stream",
     "text": [
      "['year', 'week', 'shift', 'item_id', 'f1', 'f2', 'f3', 'f4', 'f5', 'f6', 'f7', 'f8', 'f9', 'f10', 'f11', 'f12', 'f13', 'f14', 'f15', 'f16', 'f17', 'f18', 'f19', 'f20', 'f21', 'f22', 'f23', 'f24', 'f25', 'f26', 'f27', 'f28', 'f29', 'f30', 'f31', 'f32', 'f33', 'f34', 'f35', 'f36', 'f37', 'f38', 'f39', 'f40', 'f41', 'f42', 'f43', 'f44', 'f45', 'f46', 'f47', 'f48', 'f49', 'f50', 'f51', 'f52', 'f53', 'f54', 'f55', 'f56', 'f57', 'f58', 'f59', 'f60']\n",
      "64\n",
      "[ 0.01252075  0.14303574  0.07131155  0.02418114  0.01221781  0.01188209\n",
      "  0.01170501  0.0098745   0.01143587  0.01212424  0.01102528  0.00819361\n",
      "  0.01169803  0.01206517  0.0093722   0.00832315  0.01042351  0.00956621\n",
      "  0.00871316  0.01456915  0.00849977  0.00841509  0.01073536  0.00889267\n",
      "  0.01256548  0.01083225  0.01065334  0.01210024  0.01061919  0.01639528\n",
      "  0.02173276  0.01919249  0.0262198   0.02667149  0.01454976  0.01128726\n",
      "  0.01105401  0.0110169   0.0095959   0.00936221  0.01442775  0.00929186\n",
      "  0.0103459   0.01101017  0.00918248  0.00756775  0.01025586  0.01159855\n",
      "  0.01073895  0.01198172  0.01202121  0.00972417  0.01092428  0.00751371\n",
      "  0.01012561  0.01357801  0.0100329   0.01185768  0.01151517  0.01581406\n",
      "  0.02167937  0.01937214  0.01811179  0.02669947]\n",
      "64\n"
     ]
    },
    {
     "data": {
      "image/png": "[encoded data removed]",
      "text/plain": [
       "<matplotlib.figure.Figure at 0xb1e06a0>"
      ]
     },
     "metadata": {},
     "output_type": "display_data"
    }
   ],
   "source": [
    "names = X.columns\n",
    "print list(X)\n",
    "print len(list(X))\n",
    "from matplotlib import pyplot\n",
    "print model.feature_importances_\n",
    "print len(model.feature_importances_)\n",
    "pyplot.bar(range(len(model.feature_importances_)), model.feature_importances_)\n",
    "pyplot.show()"
   ]
  },
  {
   "cell_type": "code",
   "execution_count": 8,
   "metadata": {
    "collapsed": false
   },
   "outputs": [
    {
     "data": {
      "text/plain": [
       "XGBRegressor(base_score=0.5, colsample_bylevel=1, colsample_bytree=1, gamma=0,\n",
       "       learning_rate=0.2, max_delta_step=0, max_depth=15,\n",
       "       min_child_weight=1, missing=None, n_estimators=1000, nthread=-1,\n",
       "       objective='reg:linear', reg_alpha=0, reg_lambda=1,\n",
       "       scale_pos_weight=1, seed=0, silent=False, subsample=1)"
      ]
     },
     "execution_count": 8,
     "metadata": {},
     "output_type": "execute_result"
    }
   ],
   "source": [
    "\n",
    "\n",
    "y = train['y']\n",
    "X = train.drop(['Num','y'], axis=1)\n",
    "\n",
    "\n",
    "X = train[['year', 'week', 'shift', 'item_id', 'f60',\n",
    "'f59', 'f58', 'f57', 'f53', 'f37', 'f30', 'f29', 'f28', \n",
    "'f27', 'f26']]\n",
    "\n",
    "model = xgb.XGBRegressor(max_depth=15, \n",
    "                         n_estimators=2000,\n",
    "                         silent=False,\n",
    "                         learning_rate=0.25)\n",
    "#model = GradientBoostingRegressor(n_estimators=500, max_depth=10, random_state=43)#1000 15\n",
    "model.fit(X, y)"
   ]
  },
  {
   "cell_type": "code",
   "execution_count": 12,
   "metadata": {
    "collapsed": false
   },
   "outputs": [
    {
     "name": "stdout",
     "output_type": "stream",
     "text": [
      "6.83943974255\n"
     ]
    }
   ],
   "source": [
    "def smape(F, A):\n",
    "    res = 0\n",
    "    for i in range(len(F)):\n",
    "        res += float(abs(F[i] - A[i]) / (abs(A[i]) + abs(F[i])))\n",
    "    res *= float(200) / len(F)\n",
    "    return res\n",
    "\n",
    "train_y = model.predict(train[['year', 'week', 'shift', 'item_id', 'f60',\n",
    "'f59', 'f58', 'f57', 'f53', 'f37', 'f30', 'f29', 'f28', \n",
    "'f27', 'f26']])\n",
    "print smape(train['y'], train_y)\n",
    "preds = model.predict(test[['year', 'week', 'shift', 'item_id', 'f60',\n",
    "'f59', 'f58', 'f57', 'f53', 'f37', 'f30', 'f29', 'f28', \n",
    "'f27', 'f26']])\n",
    "solution = pd.read_csv(\"sample_submission.tsv\")\n",
    "solution['y'] = preds\n",
    "solution.to_csv(\"solution.tsv\", sep=',', index=False)"
   ]
  },
  {
   "cell_type": "code",
   "execution_count": null,
   "metadata": {
    "collapsed": false
   },
   "outputs": [],
   "source": []
  },
  {
   "cell_type": "code",
   "execution_count": null,
   "metadata": {
    "collapsed": false
   },
   "outputs": [],
   "source": []
  },
  {
   "cell_type": "code",
   "execution_count": null,
   "metadata": {
    "collapsed": false
   },
   "outputs": [],
   "source": []
  },
  {
   "cell_type": "code",
   "execution_count": null,
   "metadata": {
    "collapsed": false
   },
   "outputs": [],
   "source": []
  },
  {
   "cell_type": "code",
   "execution_count": null,
   "metadata": {
    "collapsed": true
   },
   "outputs": [],
   "source": []
  }
 ],
 "metadata": {
  "kernelspec": {
   "display_name": "Python 2",
   "language": "python",
   "name": "python2"
  },
  "language_info": {
   "codemirror_mode": {
    "name": "ipython",
    "version": 2
   },
   "file_extension": ".py",
   "mimetype": "text/x-python",
   "name": "python",
   "nbconvert_exporter": "python",
   "pygments_lexer": "ipython2",
   "version": "2.7.13"
  }
 },
 "nbformat": 4,
 "nbformat_minor": 0
}
