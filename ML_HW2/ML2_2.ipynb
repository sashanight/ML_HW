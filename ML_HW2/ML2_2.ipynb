{
 "cells": [
  {
   "cell_type": "code",
   "execution_count": 8,
   "metadata": {
    "collapsed": false
   },
   "outputs": [],
   "source": [
    "import numpy as np\n",
    "import matplotlib.pyplot as plt\n",
    "import random as rd\n",
    "\n",
    "\n",
    "#класс ячейки дерева\n",
    "class Cell: \n",
    "    def __init__(self, data):\n",
    "        self.data = data\n",
    "        self.children = []\n",
    "    def add_child(self, obj):\n",
    "        self.children.append(obj)\n",
    "        \n",
    "def mse(info):\n",
    "    mean = np.mean(info)\n",
    "    result = 0\n",
    "    for i in info:\n",
    "        result += (i - mean) ** 2\n",
    "    return result        \n",
    "        \n",
    "#функция для критерия gini\n",
    "def gini(info):\n",
    "    answer = 0\n",
    "    len_ = len(info)\n",
    "    targets = set(info)\n",
    "    probabilities = []\n",
    "    for t in targets:\n",
    "        _t = [i for i in info if i == t]\n",
    "        probabilities.append(len(_t) * 1.0 / len_)\n",
    "    for p in probabilities:\n",
    "        answer = answer + p * (1 - p)\n",
    "    return answer"
   ]
  },
  {
   "cell_type": "code",
   "execution_count": 9,
   "metadata": {
    "collapsed": false
   },
   "outputs": [],
   "source": [
    "class DecisionTree:\n",
    "    def __init__(self, criterion = 'gini',  min_weight = 1, min_samples_split=3):\n",
    "        self.cell = Cell(0)\n",
    "        self.criterion = criterion\n",
    "        self.min_weight = min_weight\n",
    "        self.min_samples_split = min_samples_split\n",
    "        \n",
    "    def split(self, data, targets):\n",
    "        #функция для выдачи ответа в листе\n",
    "        def answer_in_leaf(info):\n",
    "            if self.criterion == 'gini':\n",
    "                return max(set(info), key = info.count)\n",
    "            elif self.criterion == 'mse':\n",
    "                return np.mean(info)\n",
    "        \n",
    "        #функция для определения разделения по данной фиче j и порогу threshold\n",
    "        def accuracy(j, threshold):\n",
    "            #j = feature\n",
    "            func = None\n",
    "            if self.criterion == 'gini': \n",
    "                func = gini\n",
    "            elif self.criterion == 'mse': \n",
    "                func = mean_squared_error\n",
    "            data1 = [data[i] for i in range(0, len(data)) if data[i][j] < threshold]\n",
    "            targets1 = [targets[i] for i in range(0, len(data)) if data[i][j] < threshold]\n",
    "            data2 = [data[i] for i in range(0, len(data)) if data[i][j] >= threshold]\n",
    "            targets2 = [targets[i] for i in range(0, len(data)) if data[i][j] >= threshold]\n",
    "            if(len(data1)  * len(data2) == 0):\n",
    "                return -100\n",
    "            answer = len(data1) * 1.0 / len(data) * func(targets1) + len(data2) * 1.0 / len(data) * func(targets2)\n",
    "            return answer        \n",
    "    \n",
    "            \n",
    "        #начинаем построение        \n",
    "        \n",
    "        if len(data) < self.min_samples_split:\n",
    "            return answer_in_leaf(targets)    \n",
    "        \n",
    "        min_j = 0\n",
    "        min_threshold = 0\n",
    "        min_accuracy = -1\n",
    "        for j in range(0, len(data[0])):\n",
    "            values = [feature_value[j] for feature_value in data]\n",
    "            thresholds = np.linspace(min(values), max(values), 100)\n",
    "            for threshold_ in thresholds:\n",
    "                if accuracy(j, threshold_) > 0:\n",
    "                    min_j = j\n",
    "                    min_threshold = threshold_\n",
    "                    min_accuracy = accuracy(j, threshold_)\n",
    "                    break\n",
    "                    \n",
    "        if min_accuracy == -1:\n",
    "            return answer_in_leaf(targets)                    \n",
    "        \n",
    "        for j in range(0, len(data[0])):\n",
    "            values = [feature_value[j] for feature_value in data]\n",
    "            thresholds = np.linspace(min(values), max(values), 100)\n",
    "            for threshold_ in thresholds:\n",
    "                if accuracy(j, threshold_) > min_accuracy and accuracy(j, threshold_) != -1:\n",
    "                    min_j = j\n",
    "                    min_threshold = threshold_\n",
    "                    min_accuracy = accuracy(j, threshold_)        \n",
    "        data1 = [data[i] for i in range(0, len(data)) if data[i][min_j] < min_threshold]\n",
    "        targets1 = [targets[i] for i in range(0, len(data)) if data[i][min_j] < min_threshold]\n",
    "        data2 = [data[i] for i in range(0, len(data)) if data[i][min_j] >= min_threshold]\n",
    "        targets2 = [targets[i] for i in range(0, len(data)) if data[i][min_j] >= min_threshold]\n",
    "     \n",
    "        #переход на следующий уровень\n",
    "\n",
    "        if (len(data1) >= self.min_weight and len(data2) >= self.min_weight):\n",
    "            new_cell = Cell([min_j, min_threshold])\n",
    "            _cell = self.split(data1, targets1)\n",
    "            new_cell.add_child(_cell)\n",
    "            _cell = self.split(data2, targets2)\n",
    "            new_cell.add_child(_cell)\n",
    "            return new_cell\n",
    "        else:\n",
    "            return answer_in_leaf(targets)\n",
    "\n",
    "    def fit(self, data_, targets_): \n",
    "        self.cell = self.split(data_, targets_)\n",
    "    \n",
    "    def predict(self, data_):\n",
    "        targets_ = [0.0] * len(data_)\n",
    "        count = 0\n",
    "        for d in data_:\n",
    "            cell_ = self.cell\n",
    "            while type(cell_) != np.float64 and type(cell_) != np.float64:#спускаемся по дереву\n",
    "                if d[cell_.data[0]] < cell_.data[1]:\n",
    "                    cell_ = cell_.children[0]\n",
    "                else:\n",
    "                    cell_ = cell_.children[1]\n",
    "            targets_[count] = cell_\n",
    "            count +=1\n",
    "        return targets_"
   ]
  },
  {
   "cell_type": "code",
   "execution_count": 10,
   "metadata": {
    "collapsed": false
   },
   "outputs": [
    {
     "name": "stdout",
     "output_type": "stream",
     "text": [
      "4.76862745098\n"
     ]
    }
   ],
   "source": [
    "#загружаем данные\n",
    "from sklearn.datasets import load_boston\n",
    "from sklearn import tree\n",
    "from sklearn.cross_validation import train_test_split\n",
    "from sklearn.metrics import accuracy_score, classification_report\n",
    "data = load_boston().data\n",
    "target = load_boston().target\n",
    "\n",
    "#используем наше дерево\n",
    "train_data, test_data, train_target, test_target = train_test_split(data, target, test_size = 0.2)    \n",
    "tree_ = DecisionTree()\n",
    "tree_.fit(train_data, train_target)\n",
    "predictions = tree_.predict(test_data)\n",
    "sigma = (abs(np.array(test_target) - np.array(predictions))).mean()\n",
    "print sigma"
   ]
  },
  {
   "cell_type": "code",
   "execution_count": 11,
   "metadata": {
    "collapsed": false
   },
   "outputs": [
    {
     "name": "stdout",
     "output_type": "stream",
     "text": [
      "3.03022875817\n"
     ]
    }
   ],
   "source": [
    "from sklearn import tree\n",
    "from sklearn.cross_validation import train_test_split\n",
    "from sklearn.metrics import mean_absolute_error, classification_report\n",
    "model = tree.DecisionTreeRegressor(max_depth = 15)\n",
    "model.fit(train_data, train_target)\n",
    "test_predictions = model.predict(test_data)\n",
    "print mean_absolute_error(test_target, test_predictions)"
   ]
  },
  {
   "cell_type": "code",
   "execution_count": null,
   "metadata": {
    "collapsed": true
   },
   "outputs": [],
   "source": [
    "#Видим, что качество довольно неплохое"
   ]
  }
 ],
 "metadata": {
  "kernelspec": {
   "display_name": "Python 2",
   "language": "python",
   "name": "python2"
  },
  "language_info": {
   "codemirror_mode": {
    "name": "ipython",
    "version": 2
   },
   "file_extension": ".py",
   "mimetype": "text/x-python",
   "name": "python",
   "nbconvert_exporter": "python",
   "pygments_lexer": "ipython2",
   "version": "2.7.13"
  }
 },
 "nbformat": 4,
 "nbformat_minor": 2
}
